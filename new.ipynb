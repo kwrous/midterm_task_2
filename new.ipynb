{
 "cells": [
  {
   "cell_type": "code",
   "execution_count": 5,
   "id": "d42db312-d1f0-4d6e-9188-c93f8bf37742",
   "metadata": {},
   "outputs": [
    {
     "name": "stdout",
     "output_type": "stream",
     "text": [
      "load checkpoint from local path: ./work_dirs/mask_rcnn_r50_fpn_1x_coco/epoch_12.pth\n"
     ]
    }
   ],
   "source": [
    "from mmdet.apis import init_detector, inference_detector\n",
    "import mmcv\n",
    "\n",
    "# 指定模型的配置文件和 checkpoint 文件路径\n",
    "config_file = 'configs/mask_rcnn/mask_rcnn_r50_fpn_1x_coco.py'\n",
    "checkpoint_file = './work_dirs/mask_rcnn_r50_fpn_1x_coco/epoch_12.pth'\n",
    "\n",
    "# 根据配置文件和 checkpoint 文件构建模型\n",
    "model = init_detector(config_file, checkpoint_file, device='cuda:0')\n",
    "\n",
    "# 测试单张图片并展示结果\n",
    "img = './data/new/cat.jpg'  # 或者 img = mmcv.imread(img)，这样图片仅会被读一次\n",
    "result = inference_detector(model, img)\n",
    "# 在一个新的窗口中将结果可视化\n",
    "model.show_result(img, result)\n",
    "# 或者将可视化结果保存为图片\n",
    "model.show_result(img, result, out_file='result_cat_mask.jpg')\n",
    "\n",
    "# 测试单张图片并展示结果\n",
    "img = './data/new/train.jpg'  # 或者 img = mmcv.imread(img)，这样图片仅会被读一次\n",
    "result = inference_detector(model, img)\n",
    "# 在一个新的窗口中将结果可视化\n",
    "model.show_result(img, result)\n",
    "# 或者将可视化结果保存为图片\n",
    "model.show_result(img, result, out_file='result_train_mask.jpg')\n",
    "\n",
    "# 测试单张图片并展示结果\n",
    "img = './data/new/bike.jpg'  # 或者 img = mmcv.imread(img)，这样图片仅会被读一次\n",
    "result = inference_detector(model, img)\n",
    "# 在一个新的窗口中将结果可视化\n",
    "model.show_result(img, result)\n",
    "# 或者将可视化结果保存为图片\n",
    "model.show_result(img, result, out_file='result_bike_mask.jpg')"
   ]
  },
  {
   "cell_type": "code",
   "execution_count": 6,
   "id": "653e9828-a8ab-4e5f-8d3b-6680f6ae04be",
   "metadata": {},
   "outputs": [
    {
     "name": "stdout",
     "output_type": "stream",
     "text": [
      "load checkpoint from local path: ./work_dirs/sparse_rcnn_r50_fpn_1x_coco/epoch_12.pth\n"
     ]
    },
    {
     "name": "stderr",
     "output_type": "stream",
     "text": [
      "/root/mmdetection/mmdet/models/roi_heads/sparse_roi_head.py:355: UserWarning: __floordiv__ is deprecated, and its behavior will change in a future version of pytorch. It currently rounds toward 0 (like the 'trunc' function NOT 'floor'). This results in incorrect rounding for negative values. To keep the current behavior, use torch.div(a, b, rounding_mode='trunc'), or for actual floor division, use torch.div(a, b, rounding_mode='floor').\n",
      "  bbox_pred_per_img = proposal_list[img_id][topk_indices //\n"
     ]
    }
   ],
   "source": [
    "from mmdet.apis import init_detector, inference_detector\n",
    "import mmcv\n",
    "\n",
    "# 指定模型的配置文件和 checkpoint 文件路径\n",
    "config_file = 'configs/sparse_rcnn/sparse_rcnn_r50_fpn_1x_coco.py'\n",
    "checkpoint_file = './work_dirs/sparse_rcnn_r50_fpn_1x_coco/epoch_12.pth'\n",
    "\n",
    "# 根据配置文件和 checkpoint 文件构建模型\n",
    "model = init_detector(config_file, checkpoint_file, device='cuda:0')\n",
    "\n",
    "# 测试单张图片并展示结果\n",
    "img = './data/new/cat.jpg'  # 或者 img = mmcv.imread(img)，这样图片仅会被读一次\n",
    "result = inference_detector(model, img)\n",
    "# 在一个新的窗口中将结果可视化\n",
    "model.show_result(img, result)\n",
    "# 或者将可视化结果保存为图片\n",
    "model.show_result(img, result, out_file='result_cat_sparse.jpg')\n",
    "\n",
    "# 测试单张图片并展示结果\n",
    "img = './data/new/train.jpg'  # 或者 img = mmcv.imread(img)，这样图片仅会被读一次\n",
    "result = inference_detector(model, img)\n",
    "# 在一个新的窗口中将结果可视化\n",
    "model.show_result(img, result)\n",
    "# 或者将可视化结果保存为图片\n",
    "model.show_result(img, result, out_file='result_train_sparse.jpg')\n",
    "\n",
    "# 测试单张图片并展示结果\n",
    "img = './data/new/bike.jpg'  # 或者 img = mmcv.imread(img)，这样图片仅会被读一次\n",
    "result = inference_detector(model, img)\n",
    "# 在一个新的窗口中将结果可视化\n",
    "model.show_result(img, result)\n",
    "# 或者将可视化结果保存为图片\n",
    "model.show_result(img, result, out_file='result_bike_sparse.jpg')"
   ]
  },
  {
   "cell_type": "code",
   "execution_count": null,
   "id": "878fc163-f2c6-4a1c-b4af-fbabaeb68227",
   "metadata": {},
   "outputs": [],
   "source": []
  }
 ],
 "metadata": {
  "kernelspec": {
   "display_name": "Python 3 (ipykernel)",
   "language": "python",
   "name": "python3"
  },
  "language_info": {
   "codemirror_mode": {
    "name": "ipython",
    "version": 3
   },
   "file_extension": ".py",
   "mimetype": "text/x-python",
   "name": "python",
   "nbconvert_exporter": "python",
   "pygments_lexer": "ipython3",
   "version": "3.8.10"
  }
 },
 "nbformat": 4,
 "nbformat_minor": 5
}
